{
 "cells": [
  {
   "attachments": {},
   "cell_type": "markdown",
   "metadata": {},
   "source": [
    "### In this notebook I will try to build a basic Data Engineering project"
   ]
  },
  {
   "cell_type": "code",
   "execution_count": 1,
   "metadata": {},
   "outputs": [],
   "source": [
    "import pandas as pd\n",
    "import numpy as np"
   ]
  },
  {
   "cell_type": "code",
   "execution_count": 2,
   "metadata": {},
   "outputs": [],
   "source": [
    "spotify_data = pd.read_csv('spotify_dataset.csv', on_bad_lines='skip', low_memory=False) #there might be error in csv file so we use this\n",
    "user_data = pd.read_csv('UserData_13May2023.csv')"
   ]
  },
  {
   "cell_type": "code",
   "execution_count": 3,
   "metadata": {},
   "outputs": [
    {
     "data": {
      "text/html": [
       "<div>\n",
       "<style scoped>\n",
       "    .dataframe tbody tr th:only-of-type {\n",
       "        vertical-align: middle;\n",
       "    }\n",
       "\n",
       "    .dataframe tbody tr th {\n",
       "        vertical-align: top;\n",
       "    }\n",
       "\n",
       "    .dataframe thead th {\n",
       "        text-align: right;\n",
       "    }\n",
       "</style>\n",
       "<table border=\"1\" class=\"dataframe\">\n",
       "  <thead>\n",
       "    <tr style=\"text-align: right;\">\n",
       "      <th></th>\n",
       "      <th>user_id</th>\n",
       "      <th>\"artistname\"</th>\n",
       "      <th>\"trackname\"</th>\n",
       "      <th>\"playlistname\"</th>\n",
       "    </tr>\n",
       "  </thead>\n",
       "  <tbody>\n",
       "    <tr>\n",
       "      <th>0</th>\n",
       "      <td>9cc0cfd4d7d7885102480dd99e7a90d6</td>\n",
       "      <td>Elvis Costello</td>\n",
       "      <td>(The Angels Wanna Wear My) Red Shoes</td>\n",
       "      <td>HARD ROCK 2010</td>\n",
       "    </tr>\n",
       "    <tr>\n",
       "      <th>1</th>\n",
       "      <td>9cc0cfd4d7d7885102480dd99e7a90d6</td>\n",
       "      <td>Elvis Costello &amp; The Attractions</td>\n",
       "      <td>(What's So Funny 'Bout) Peace, Love And Unders...</td>\n",
       "      <td>HARD ROCK 2010</td>\n",
       "    </tr>\n",
       "    <tr>\n",
       "      <th>2</th>\n",
       "      <td>9cc0cfd4d7d7885102480dd99e7a90d6</td>\n",
       "      <td>Tiffany Page</td>\n",
       "      <td>7 Years Too Late</td>\n",
       "      <td>HARD ROCK 2010</td>\n",
       "    </tr>\n",
       "    <tr>\n",
       "      <th>3</th>\n",
       "      <td>9cc0cfd4d7d7885102480dd99e7a90d6</td>\n",
       "      <td>Elvis Costello &amp; The Attractions</td>\n",
       "      <td>Accidents Will Happen</td>\n",
       "      <td>HARD ROCK 2010</td>\n",
       "    </tr>\n",
       "    <tr>\n",
       "      <th>4</th>\n",
       "      <td>9cc0cfd4d7d7885102480dd99e7a90d6</td>\n",
       "      <td>Elvis Costello</td>\n",
       "      <td>Alison</td>\n",
       "      <td>HARD ROCK 2010</td>\n",
       "    </tr>\n",
       "  </tbody>\n",
       "</table>\n",
       "</div>"
      ],
      "text/plain": [
       "                            user_id                      \"artistname\"   \n",
       "0  9cc0cfd4d7d7885102480dd99e7a90d6                    Elvis Costello  \\\n",
       "1  9cc0cfd4d7d7885102480dd99e7a90d6  Elvis Costello & The Attractions   \n",
       "2  9cc0cfd4d7d7885102480dd99e7a90d6                      Tiffany Page   \n",
       "3  9cc0cfd4d7d7885102480dd99e7a90d6  Elvis Costello & The Attractions   \n",
       "4  9cc0cfd4d7d7885102480dd99e7a90d6                    Elvis Costello   \n",
       "\n",
       "                                         \"trackname\"  \"playlistname\"  \n",
       "0               (The Angels Wanna Wear My) Red Shoes  HARD ROCK 2010  \n",
       "1  (What's So Funny 'Bout) Peace, Love And Unders...  HARD ROCK 2010  \n",
       "2                                   7 Years Too Late  HARD ROCK 2010  \n",
       "3                              Accidents Will Happen  HARD ROCK 2010  \n",
       "4                                             Alison  HARD ROCK 2010  "
      ]
     },
     "execution_count": 3,
     "metadata": {},
     "output_type": "execute_result"
    }
   ],
   "source": [
    "spotify_data.head()"
   ]
  },
  {
   "cell_type": "code",
   "execution_count": 4,
   "metadata": {},
   "outputs": [
    {
     "data": {
      "text/html": [
       "<div>\n",
       "<style scoped>\n",
       "    .dataframe tbody tr th:only-of-type {\n",
       "        vertical-align: middle;\n",
       "    }\n",
       "\n",
       "    .dataframe tbody tr th {\n",
       "        vertical-align: top;\n",
       "    }\n",
       "\n",
       "    .dataframe thead th {\n",
       "        text-align: right;\n",
       "    }\n",
       "</style>\n",
       "<table border=\"1\" class=\"dataframe\">\n",
       "  <thead>\n",
       "    <tr style=\"text-align: right;\">\n",
       "      <th></th>\n",
       "      <th>_id</th>\n",
       "      <th>name</th>\n",
       "      <th>email</th>\n",
       "      <th>company</th>\n",
       "      <th>country</th>\n",
       "      <th>phone_number</th>\n",
       "      <th>designation</th>\n",
       "      <th>password</th>\n",
       "      <th>regitime</th>\n",
       "      <th>endtime</th>\n",
       "      <th>role</th>\n",
       "      <th>type</th>\n",
       "      <th>restriction</th>\n",
       "      <th>phone</th>\n",
       "    </tr>\n",
       "  </thead>\n",
       "  <tbody>\n",
       "    <tr>\n",
       "      <th>0</th>\n",
       "      <td>645f81341fc0ecc0dd348626</td>\n",
       "      <td>Ahmed Hasibul Hasan</td>\n",
       "      <td>hasibahmed@outlook.com</td>\n",
       "      <td>Panna Traders</td>\n",
       "      <td>Bangladesh</td>\n",
       "      <td>+8801705110740</td>\n",
       "      <td>Executive Director</td>\n",
       "      <td>$2b$12$JXY0PEQlWuKiWY4yEyrxX.3mzMdWjp7OttDaeH5...</td>\n",
       "      <td>2023-05-13T18:23:16.249000</td>\n",
       "      <td>2023-06-12T18:23:16.249000</td>\n",
       "      <td>individual_user</td>\n",
       "      <td>basic</td>\n",
       "      <td>0.0</td>\n",
       "      <td>NaN</td>\n",
       "    </tr>\n",
       "    <tr>\n",
       "      <th>1</th>\n",
       "      <td>645bdfed1fc0ecc0dd348625</td>\n",
       "      <td>Asif Iqbal</td>\n",
       "      <td>asifiqbal9060@gmail.com</td>\n",
       "      <td>University of Chittagong</td>\n",
       "      <td>Bangladesh</td>\n",
       "      <td>01872379060</td>\n",
       "      <td>Student</td>\n",
       "      <td>$2b$12$adKDTEZSSWTchH1loQPi6OJhoyvyL0SgB8.qAP....</td>\n",
       "      <td>2023-05-11T00:18:21.320000</td>\n",
       "      <td>2023-06-10T00:18:21.320000</td>\n",
       "      <td>individual_user</td>\n",
       "      <td>basic</td>\n",
       "      <td>0.0</td>\n",
       "      <td>NaN</td>\n",
       "    </tr>\n",
       "    <tr>\n",
       "      <th>2</th>\n",
       "      <td>645b33731fc0ecc0dd348624</td>\n",
       "      <td>Aftab</td>\n",
       "      <td>aftabpulok@gmail.com</td>\n",
       "      <td>sowspot</td>\n",
       "      <td>Bangladesh</td>\n",
       "      <td>01974259093</td>\n",
       "      <td>student</td>\n",
       "      <td>$2b$12$wASiGcFQWvoDF0WUcURZwuML7QmRQ/m7JuTWYla...</td>\n",
       "      <td>2023-05-10T12:02:27.927000</td>\n",
       "      <td>2023-06-09T12:02:27.927000</td>\n",
       "      <td>individual_user</td>\n",
       "      <td>basic</td>\n",
       "      <td>0.0</td>\n",
       "      <td>NaN</td>\n",
       "    </tr>\n",
       "    <tr>\n",
       "      <th>3</th>\n",
       "      <td>645a42651fc0ecc0dd348623</td>\n",
       "      <td>Tushar Chandra Datta</td>\n",
       "      <td>tusharchandradatta@gmail.com</td>\n",
       "      <td>none</td>\n",
       "      <td>Bangladesh</td>\n",
       "      <td>NaN</td>\n",
       "      <td>NaN</td>\n",
       "      <td>$2b$12$eCWc2XWd0RnoVB5UoiWOhOgvFW2syjUNCqvghPL...</td>\n",
       "      <td>2023-05-09T18:53:57.045000</td>\n",
       "      <td>2023-06-08T18:53:57.045000</td>\n",
       "      <td>individual_user</td>\n",
       "      <td>basic</td>\n",
       "      <td>0.0</td>\n",
       "      <td>NaN</td>\n",
       "    </tr>\n",
       "    <tr>\n",
       "      <th>4</th>\n",
       "      <td>645748361fc0ecc0dd348622</td>\n",
       "      <td>Pallabi Siddiqua</td>\n",
       "      <td>pallabisiddiqua@du.ac.bd</td>\n",
       "      <td>University of Dhaka</td>\n",
       "      <td>Bangladesh</td>\n",
       "      <td>+8801811444333</td>\n",
       "      <td>Associate Professor</td>\n",
       "      <td>$2b$12$PFL37OuGCnOD1b1576JYP.7g9FjcXJDIzPkRP.d...</td>\n",
       "      <td>2023-05-07T12:41:58.442000</td>\n",
       "      <td>2023-06-06T12:41:58.442000</td>\n",
       "      <td>individual_user</td>\n",
       "      <td>basic</td>\n",
       "      <td>0.0</td>\n",
       "      <td>NaN</td>\n",
       "    </tr>\n",
       "  </tbody>\n",
       "</table>\n",
       "</div>"
      ],
      "text/plain": [
       "                        _id                  name   \n",
       "0  645f81341fc0ecc0dd348626   Ahmed Hasibul Hasan  \\\n",
       "1  645bdfed1fc0ecc0dd348625           Asif Iqbal    \n",
       "2  645b33731fc0ecc0dd348624                 Aftab   \n",
       "3  645a42651fc0ecc0dd348623  Tushar Chandra Datta   \n",
       "4  645748361fc0ecc0dd348622      Pallabi Siddiqua   \n",
       "\n",
       "                          email                    company     country   \n",
       "0        hasibahmed@outlook.com              Panna Traders  Bangladesh  \\\n",
       "1       asifiqbal9060@gmail.com  University of Chittagong   Bangladesh   \n",
       "2          aftabpulok@gmail.com                    sowspot  Bangladesh   \n",
       "3  tusharchandradatta@gmail.com                       none  Bangladesh   \n",
       "4      pallabisiddiqua@du.ac.bd        University of Dhaka  Bangladesh   \n",
       "\n",
       "     phone_number          designation   \n",
       "0  +8801705110740   Executive Director  \\\n",
       "1     01872379060             Student    \n",
       "2     01974259093              student   \n",
       "3             NaN                  NaN   \n",
       "4  +8801811444333  Associate Professor   \n",
       "\n",
       "                                            password   \n",
       "0  $2b$12$JXY0PEQlWuKiWY4yEyrxX.3mzMdWjp7OttDaeH5...  \\\n",
       "1  $2b$12$adKDTEZSSWTchH1loQPi6OJhoyvyL0SgB8.qAP....   \n",
       "2  $2b$12$wASiGcFQWvoDF0WUcURZwuML7QmRQ/m7JuTWYla...   \n",
       "3  $2b$12$eCWc2XWd0RnoVB5UoiWOhOgvFW2syjUNCqvghPL...   \n",
       "4  $2b$12$PFL37OuGCnOD1b1576JYP.7g9FjcXJDIzPkRP.d...   \n",
       "\n",
       "                     regitime                     endtime             role   \n",
       "0  2023-05-13T18:23:16.249000  2023-06-12T18:23:16.249000  individual_user  \\\n",
       "1  2023-05-11T00:18:21.320000  2023-06-10T00:18:21.320000  individual_user   \n",
       "2  2023-05-10T12:02:27.927000  2023-06-09T12:02:27.927000  individual_user   \n",
       "3  2023-05-09T18:53:57.045000  2023-06-08T18:53:57.045000  individual_user   \n",
       "4  2023-05-07T12:41:58.442000  2023-06-06T12:41:58.442000  individual_user   \n",
       "\n",
       "    type  restriction phone  \n",
       "0  basic          0.0   NaN  \n",
       "1  basic          0.0   NaN  \n",
       "2  basic          0.0   NaN  \n",
       "3  basic          0.0   NaN  \n",
       "4  basic          0.0   NaN  "
      ]
     },
     "execution_count": 4,
     "metadata": {},
     "output_type": "execute_result"
    }
   ],
   "source": [
    "user_data.head()"
   ]
  },
  {
   "cell_type": "code",
   "execution_count": 5,
   "metadata": {},
   "outputs": [
    {
     "data": {
      "text/html": [
       "<div>\n",
       "<style scoped>\n",
       "    .dataframe tbody tr th:only-of-type {\n",
       "        vertical-align: middle;\n",
       "    }\n",
       "\n",
       "    .dataframe tbody tr th {\n",
       "        vertical-align: top;\n",
       "    }\n",
       "\n",
       "    .dataframe thead th {\n",
       "        text-align: right;\n",
       "    }\n",
       "</style>\n",
       "<table border=\"1\" class=\"dataframe\">\n",
       "  <thead>\n",
       "    <tr style=\"text-align: right;\">\n",
       "      <th></th>\n",
       "      <th>user_id</th>\n",
       "      <th>\"artistname\"</th>\n",
       "      <th>\"trackname\"</th>\n",
       "      <th>\"playlistname\"</th>\n",
       "    </tr>\n",
       "  </thead>\n",
       "  <tbody>\n",
       "    <tr>\n",
       "      <th>count</th>\n",
       "      <td>12891680</td>\n",
       "      <td>12858108</td>\n",
       "      <td>12891592</td>\n",
       "      <td>12890434</td>\n",
       "    </tr>\n",
       "    <tr>\n",
       "      <th>unique</th>\n",
       "      <td>15918</td>\n",
       "      <td>289820</td>\n",
       "      <td>2032043</td>\n",
       "      <td>157504</td>\n",
       "    </tr>\n",
       "    <tr>\n",
       "      <th>top</th>\n",
       "      <td>4398de6902abde3351347b048fcdc287</td>\n",
       "      <td>Daft Punk</td>\n",
       "      <td>Intro</td>\n",
       "      <td>Starred</td>\n",
       "    </tr>\n",
       "    <tr>\n",
       "      <th>freq</th>\n",
       "      <td>295275</td>\n",
       "      <td>36086</td>\n",
       "      <td>6676</td>\n",
       "      <td>1337085</td>\n",
       "    </tr>\n",
       "  </tbody>\n",
       "</table>\n",
       "</div>"
      ],
      "text/plain": [
       "                                 user_id  \"artistname\"  \"trackname\"   \n",
       "count                           12891680      12858108     12891592  \\\n",
       "unique                             15918        289820      2032043   \n",
       "top     4398de6902abde3351347b048fcdc287     Daft Punk        Intro   \n",
       "freq                              295275         36086         6676   \n",
       "\n",
       "        \"playlistname\"  \n",
       "count         12890434  \n",
       "unique          157504  \n",
       "top            Starred  \n",
       "freq           1337085  "
      ]
     },
     "execution_count": 5,
     "metadata": {},
     "output_type": "execute_result"
    }
   ],
   "source": [
    "spotify_data.describe()"
   ]
  },
  {
   "cell_type": "code",
   "execution_count": 6,
   "metadata": {},
   "outputs": [
    {
     "data": {
      "text/plain": [
       "user_id                0\n",
       " \"artistname\"      33572\n",
       " \"trackname\"          88\n",
       " \"playlistname\"     1246\n",
       "dtype: int64"
      ]
     },
     "execution_count": 6,
     "metadata": {},
     "output_type": "execute_result"
    }
   ],
   "source": [
    "spotify_data.isna().sum()"
   ]
  },
  {
   "cell_type": "code",
   "execution_count": 7,
   "metadata": {},
   "outputs": [
    {
     "data": {
      "text/plain": [
       "user_id                0\n",
       " \"artistname\"      33572\n",
       " \"trackname\"          88\n",
       " \"playlistname\"     1246\n",
       "dtype: int64"
      ]
     },
     "execution_count": 7,
     "metadata": {},
     "output_type": "execute_result"
    }
   ],
   "source": [
    "spotify_data.isnull().sum()"
   ]
  },
  {
   "cell_type": "code",
   "execution_count": 8,
   "metadata": {},
   "outputs": [],
   "source": [
    "spotify_data = spotify_data.dropna()"
   ]
  },
  {
   "cell_type": "code",
   "execution_count": 9,
   "metadata": {},
   "outputs": [
    {
     "data": {
      "text/plain": [
       "user_id            0\n",
       " \"artistname\"      0\n",
       " \"trackname\"       0\n",
       " \"playlistname\"    0\n",
       "dtype: int64"
      ]
     },
     "execution_count": 9,
     "metadata": {},
     "output_type": "execute_result"
    }
   ],
   "source": [
    "spotify_data.isna().sum()"
   ]
  },
  {
   "cell_type": "code",
   "execution_count": 10,
   "metadata": {},
   "outputs": [
    {
     "data": {
      "text/html": [
       "<div>\n",
       "<style scoped>\n",
       "    .dataframe tbody tr th:only-of-type {\n",
       "        vertical-align: middle;\n",
       "    }\n",
       "\n",
       "    .dataframe tbody tr th {\n",
       "        vertical-align: top;\n",
       "    }\n",
       "\n",
       "    .dataframe thead th {\n",
       "        text-align: right;\n",
       "    }\n",
       "</style>\n",
       "<table border=\"1\" class=\"dataframe\">\n",
       "  <thead>\n",
       "    <tr style=\"text-align: right;\">\n",
       "      <th></th>\n",
       "      <th>restriction</th>\n",
       "    </tr>\n",
       "  </thead>\n",
       "  <tbody>\n",
       "    <tr>\n",
       "      <th>count</th>\n",
       "      <td>1203.000000</td>\n",
       "    </tr>\n",
       "    <tr>\n",
       "      <th>mean</th>\n",
       "      <td>0.008313</td>\n",
       "    </tr>\n",
       "    <tr>\n",
       "      <th>std</th>\n",
       "      <td>0.090831</td>\n",
       "    </tr>\n",
       "    <tr>\n",
       "      <th>min</th>\n",
       "      <td>0.000000</td>\n",
       "    </tr>\n",
       "    <tr>\n",
       "      <th>25%</th>\n",
       "      <td>0.000000</td>\n",
       "    </tr>\n",
       "    <tr>\n",
       "      <th>50%</th>\n",
       "      <td>0.000000</td>\n",
       "    </tr>\n",
       "    <tr>\n",
       "      <th>75%</th>\n",
       "      <td>0.000000</td>\n",
       "    </tr>\n",
       "    <tr>\n",
       "      <th>max</th>\n",
       "      <td>1.000000</td>\n",
       "    </tr>\n",
       "  </tbody>\n",
       "</table>\n",
       "</div>"
      ],
      "text/plain": [
       "       restriction\n",
       "count  1203.000000\n",
       "mean      0.008313\n",
       "std       0.090831\n",
       "min       0.000000\n",
       "25%       0.000000\n",
       "50%       0.000000\n",
       "75%       0.000000\n",
       "max       1.000000"
      ]
     },
     "execution_count": 10,
     "metadata": {},
     "output_type": "execute_result"
    }
   ],
   "source": [
    "user_data.describe()"
   ]
  },
  {
   "cell_type": "code",
   "execution_count": 11,
   "metadata": {},
   "outputs": [
    {
     "data": {
      "text/plain": [
       "_id                0\n",
       "name               0\n",
       "email              0\n",
       "company           20\n",
       "country          616\n",
       "phone_number    1143\n",
       "designation       26\n",
       "password           0\n",
       "regitime           0\n",
       "endtime            0\n",
       "role               0\n",
       "type               1\n",
       "restriction       38\n",
       "phone            731\n",
       "dtype: int64"
      ]
     },
     "execution_count": 11,
     "metadata": {},
     "output_type": "execute_result"
    }
   ],
   "source": [
    "user_data.isna().sum()"
   ]
  },
  {
   "cell_type": "code",
   "execution_count": 12,
   "metadata": {},
   "outputs": [
    {
     "data": {
      "text/plain": [
       "_id                0\n",
       "name               0\n",
       "email              0\n",
       "company           20\n",
       "country          616\n",
       "phone_number    1143\n",
       "designation       26\n",
       "password           0\n",
       "regitime           0\n",
       "endtime            0\n",
       "role               0\n",
       "type               1\n",
       "restriction       38\n",
       "phone            731\n",
       "dtype: int64"
      ]
     },
     "execution_count": 12,
     "metadata": {},
     "output_type": "execute_result"
    }
   ],
   "source": [
    "user_data.isnull().sum()"
   ]
  },
  {
   "cell_type": "code",
   "execution_count": 13,
   "metadata": {},
   "outputs": [],
   "source": [
    "user_data = user_data.dropna()"
   ]
  },
  {
   "cell_type": "code",
   "execution_count": 14,
   "metadata": {},
   "outputs": [],
   "source": [
    "spotify_data = spotify_data.drop_duplicates()"
   ]
  },
  {
   "cell_type": "code",
   "execution_count": 15,
   "metadata": {},
   "outputs": [],
   "source": [
    "user_data = user_data.drop_duplicates()"
   ]
  },
  {
   "cell_type": "code",
   "execution_count": 16,
   "metadata": {},
   "outputs": [],
   "source": [
    "spotify_data = spotify_data.drop(['user_id'], axis=1)"
   ]
  },
  {
   "cell_type": "code",
   "execution_count": 17,
   "metadata": {},
   "outputs": [],
   "source": [
    "user_data = user_data.drop(['_id'], axis=1)"
   ]
  },
  {
   "cell_type": "code",
   "execution_count": 18,
   "metadata": {},
   "outputs": [],
   "source": [
    "#MySQL connection\n",
    "import mysql.connector\n",
    "mydb = mysql.connector.connect(\n",
    "  host=\"localhost\",\n",
    "  user=\"demouser\",\n",
    "  password=\"demo\",\n",
    "  database = \"dataengineer\"\n",
    ")\n"
   ]
  },
  {
   "cell_type": "code",
   "execution_count": 22,
   "metadata": {},
   "outputs": [],
   "source": [
    "mycursor = mydb.cursor()\n",
    "\n",
    "mycursor.execute(\"CREATE TABLE IF NOT EXISTS spotify (id INT AUTO_INCREMENT PRIMARY KEY, artist VARCHAR(255), track VARCHAR(255), playlist VARCHAR(255))\")\n",
    "mycursor.execute(\"CREATE TABLE IF NOT EXISTS user (id INT AUTO_INCREMENT PRIMARY KEY, name VARCHAR(255), email VARCHAR(255), company VARCHAR(255), \\\n",
    "                 country VARCHAR(255), phone_number VARCHAR(255), designation VARCHAR(255), password VARCHAR(255), regi_time VARCHAR(255), \\\n",
    "                 end_time VARCHAR(255), role VARCHAR(255), type VARCHAR(255), restriction VARCHAR(255), phone VARCHAR(255))\")\n",
    "mydb.commit()\n"
   ]
  }
 ],
 "metadata": {
  "kernelspec": {
   "display_name": ".venv",
   "language": "python",
   "name": "python3"
  },
  "language_info": {
   "codemirror_mode": {
    "name": "ipython",
    "version": 3
   },
   "file_extension": ".py",
   "mimetype": "text/x-python",
   "name": "python",
   "nbconvert_exporter": "python",
   "pygments_lexer": "ipython3",
   "version": "3.11.3"
  },
  "orig_nbformat": 4
 },
 "nbformat": 4,
 "nbformat_minor": 2
}
